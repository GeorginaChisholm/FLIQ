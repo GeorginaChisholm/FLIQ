# Understanding one of the earliest quantum algorithms: the Deutsch-Jozsa Algorithm. 
# It was the first algorithm to demonstrate that a quantum computer can solve certain problems exponentially faster than a classical computer.
# We’ll build it together, from the mathematical idea to the real quantum hardware implementation.

# What Problem Does It Solve?
# Given a black-box function (called an oracle) that takes an n-bit string as input and outputs either 0 or 1, determine whether the function is:

# Constant (always outputs 0 or always outputs 1), or

# Balanced (outputs 0 for half of inputs and 1 for the other half).

# Classically: You might need up to 2^(n-1)+1 evaluations in the worst case.
# Quantumly: You need only 1 query to the oracle.


# Before we start, install Qiskit if you haven't:
pip install qiskit

# Let's start with an overview of the algorithm:
# High-level steps:

# Initialize n qubits to |0⟩ and 1 ancillary qubit to |1⟩.

# Apply Hadamard gates to all qubits.

# Query the oracle.

# Apply Hadamard gates again to the first n qubits.

# Measure the first n qubits.

# If all measurements are |0⟩, the function is constant; otherwise, it's balanced.

# Math Behind It - We start with:
|0⟩^n ⊗ |1⟩

# After applying Hadamard gates:
(1/√(2^n)) Σ_x |x⟩ ⊗ (|0⟩ - |1⟩)/√2

# The oracle flips the phase based on f(x):
|x⟩|y⟩ → |x⟩|y ⊕ f(x)⟩
# Because |0⟩ - |1⟩ is an eigenstate of X (bit flip), the oracle effectively multiplies |x⟩ by (-1)^(f(x)).

# After a final Hadamard and measurement:
# If f is constant → all results are |0⟩.
# If f is balanced → at least one result is |1⟩.


# Building the Circuit (Step by Step). Let’s implement this for 3 qubits (you can generalise later):

# Step 1: Setup Environment
from qiskit import QuantumCircuit, Aer, transpile, execute, IBMQ
from qiskit.visualization import plot_histogram
from qiskit.providers.ibmq import least_busy
import numpy as np
import matplotlib.pyplot as plt


# Step 2: Create Oracle. Let’s code both constant and balanced oracles:
def constant_oracle(n, output):
    qc = QuantumCircuit(n+1)
    if output == 1:
        qc.x(n)
    return qc

def balanced_oracle(n):
    qc = QuantumCircuit(n+1)
    for qubit in range(n):
        qc.cx(qubit, n)
    return qc


# Step 3: Deutsch-Jozsa Circuit Constructor
def deutsch_jozsa_circuit(n, oracle):
    qc = QuantumCircuit(n+1, n)

    qc.x(n)
    qc.h(range(n+1))
    qc.append(oracle.to_gate(), range(n+1))
    qc.h(range(n))
    qc.measure(range(n), range(n))

    return qc


# Step 4: Simulate on Local Simulator: 
n = 3
oracle = balanced_oracle(n)
dj_circuit = deutsch_jozsa_circuit(n, oracle)
dj_circuit.draw('mpl')

# Simulate:
backend = Aer.get_backend('qasm_simulator')
job = execute(dj_circuit, backend, shots=1024)
result = job.result()
counts = result.get_counts()

plot_histogram(counts)


# Now, let's run on real quantum hardware:
# First, authenticate and select a device:
IBMQ.load_account()
provider = IBMQ.get_provider(hub='ibm-q')
backend = least_busy(provider.backends(filters=lambda x: x.configuration().n_qubits >= 4 and not x.configuration().simulator and x.status().operational==True))
print("Running on: ", backend)

# Run job:
job = execute(dj_circuit, backend=backend, shots=1024)
print("Job ID:", job.job_id())


# Retrieve result:
from qiskit.tools.monitor import job_monitor
job_monitor(job)

result = job.result()
counts = result.get_counts()

plot_histogram(counts)


# Exercise: Modify to 4 Qubits and Test. Task: Change n=3 to n=4 and rebuild the circuit with both oracle types. Observe simulation and hardware results.

# Estimating run time - Estimate using circuit depth and number of shots:
print(dj_circuit.depth())

# On a typical IBM backend (e.g. ibmq_lima, 5 qubits, ~200µs per circuit of depth ~10 per shot), the estimated run time will be:
(10 depth × 1024 shots × 200 µs) ≈ 2 seconds (without queue time)

